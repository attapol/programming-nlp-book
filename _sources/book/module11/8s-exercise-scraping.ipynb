{
 "cells": [
  {
   "cell_type": "markdown",
   "metadata": {},
   "source": [
    "# เฉลยแบบฝึกหัดการขูดข้อมูลด้วย `BeautifulSoup`"
   ]
  },
  {
   "cell_type": "code",
   "execution_count": null,
   "metadata": {
    "colab": {
     "base_uri": "https://localhost:8080/"
    },
    "executionInfo": {
     "elapsed": 3655,
     "status": "ok",
     "timestamp": 1637292774200,
     "user": {
      "displayName": "Te Rutherford",
      "photoUrl": "https://lh3.googleusercontent.com/a-/AOh14GhnnnZyY6CXF3gziJT3ZRAv_NC-DLIzPvDCitotVpw=s64",
      "userId": "02271080427623739850"
     },
     "user_tz": -420
    },
    "id": "B_fetxdKQEIr",
    "outputId": "34681b5f-fa3c-40c0-fe91-538320a81dd9"
   },
   "outputs": [
    {
     "name": "stdout",
     "output_type": "stream",
     "text": [
      "Requirement already satisfied: beautifulsoup4 in /usr/local/lib/python3.7/dist-packages (4.6.3)\n"
     ]
    }
   ],
   "source": [
    "!pip install beautifulsoup4"
   ]
  },
  {
   "cell_type": "code",
   "execution_count": null,
   "metadata": {
    "id": "fJRVQwHTiSL3"
   },
   "outputs": [],
   "source": [
    "from bs4 import BeautifulSoup\n",
    "import requests"
   ]
  },
  {
   "cell_type": "markdown",
   "metadata": {
    "id": "9xG-r86tjcoi"
   },
   "source": [
    "## Scraping email addresses "
   ]
  },
  {
   "cell_type": "code",
   "execution_count": null,
   "metadata": {
    "colab": {
     "base_uri": "https://localhost:8080/"
    },
    "executionInfo": {
     "elapsed": 17,
     "status": "ok",
     "timestamp": 1637304227666,
     "user": {
      "displayName": "Te Rutherford",
      "photoUrl": "https://lh3.googleusercontent.com/a-/AOh14GhnnnZyY6CXF3gziJT3ZRAv_NC-DLIzPvDCitotVpw=s64",
      "userId": "02271080427623739850"
     },
     "user_tz": -420
    },
    "id": "77lRswusihzD",
    "outputId": "b1881a62-b5b1-4b73-a500-d2246ed8c94e"
   },
   "outputs": [
    {
     "name": "stdout",
     "output_type": "stream",
     "text": [
      "avery.shane@gmail.com\n",
      "sani.c@chula.ac.th\n",
      "crabtree@chula.ac.th\n",
      "cheunsumon.d@chula.ac.th\n",
      "ajarnjennychula@gmail.com\n",
      "jsomjit@chula.ac.th\n",
      "tapanat.k@chula.ac.th\n",
      "andrewlobb83@gmail.com\n",
      "andrewlobb83@gmail.com\n",
      "subenja.p@chula.ac.th\n",
      "brptefl@gmail.com\n",
      "jittima.p@chula.ac.th\n",
      "proud.s@chula.ac.th\n",
      "verita.s@chula.ac.th\n",
      "puckpan.t@chula.ac.th\n",
      "rwijitsopon@gmail.com\n",
      "fasyaESL@gmail.com\n",
      "darintip.c@chula.ac.th\n",
      "nirada.s@chula.ac.th\n",
      "justin.da.silva1982@gmail.com\n",
      "siamharit@yahoo.com\n",
      "preena.kangkun@gmail.com\n",
      "mathurin.l@chula.ac.th\n",
      "ajarnelindert@gmail.com\n",
      "mprima@chula.ac.th\n",
      "ingo.p@chula.ac.th\n",
      "pnattama@chula.ac.th\n",
      "pnattama@gmail.com\n",
      "darin.p@chula.ac.th\n",
      "bancha.r@chula.ac.th\n",
      "brattana.b@gmail.com\n",
      "jiranthara.s@chula.ac.th\n",
      "nipaporn.chula@gmail.com\n",
      "tiranasawasdin@gmail.com\n",
      "simonjpwright@hotmail.com\n",
      "englishdepartment@chula.ac.th\n"
     ]
    }
   ],
   "source": [
    "import re\n",
    "#url = 'https://math.sc.chula.ac.th/en/people/'\n",
    "url = 'https://www.arts.chula.ac.th/~english/people/'\n",
    "page = requests.get(url) # string ของ HTML Code\n",
    "for email in re.findall('[a-zA-Z0-9.]+@[a-zA-Z0-9.]+', page.text):\n",
    "  print(email)"
   ]
  },
  {
   "cell_type": "markdown",
   "metadata": {},
   "source": [
    "## Scraping news"
   ]
  },
  {
   "cell_type": "code",
   "execution_count": null,
   "metadata": {
    "id": "zd08BwRuQOMe"
   },
   "outputs": [],
   "source": [
    "\n",
    "url = 'https://thestandard.co/metaverse-and-investment-opportunities/'\n",
    "page = requests.get(url)\n",
    "soup = BeautifulSoup(page.content, 'html.parser')"
   ]
  },
  {
   "cell_type": "code",
   "execution_count": null,
   "metadata": {
    "id": "4_r3EBlSQUbG"
   },
   "outputs": [],
   "source": [
    "d = soup.select('div.entry-content')"
   ]
  },
  {
   "cell_type": "code",
   "execution_count": null,
   "metadata": {
    "colab": {
     "base_uri": "https://localhost:8080/"
    },
    "executionInfo": {
     "elapsed": 6,
     "status": "ok",
     "timestamp": 1637304876949,
     "user": {
      "displayName": "Te Rutherford",
      "photoUrl": "https://lh3.googleusercontent.com/a-/AOh14GhnnnZyY6CXF3gziJT3ZRAv_NC-DLIzPvDCitotVpw=s64",
      "userId": "02271080427623739850"
     },
     "user_tz": -420
    },
    "id": "36HiPVpUQhkz",
    "outputId": "5c7bed61-24cc-45f6-ffeb-fe33e4f15b45"
   },
   "outputs": [
    {
     "data": {
      "text/plain": [
       "1"
      ]
     },
     "execution_count": 67,
     "metadata": {},
     "output_type": "execute_result"
    }
   ],
   "source": [
    "len(d)"
   ]
  },
  {
   "cell_type": "code",
   "execution_count": null,
   "metadata": {
    "colab": {
     "base_uri": "https://localhost:8080/",
     "height": 35
    },
    "executionInfo": {
     "elapsed": 446,
     "status": "ok",
     "timestamp": 1637292918872,
     "user": {
      "displayName": "Te Rutherford",
      "photoUrl": "https://lh3.googleusercontent.com/a-/AOh14GhnnnZyY6CXF3gziJT3ZRAv_NC-DLIzPvDCitotVpw=s64",
      "userId": "02271080427623739850"
     },
     "user_tz": -420
    },
    "id": "K34OAJc_Qorf",
    "outputId": "f7d2e77b-cbad-404c-c191-5ec0efc9c98c"
   },
   "outputs": [
    {
     "data": {
      "application/vnd.google.colaboratory.intrinsic+json": {
       "type": "string"
      },
      "text/plain": [
       "'metaverse-and-investment-opportunities'"
      ]
     },
     "execution_count": 9,
     "metadata": {},
     "output_type": "execute_result"
    }
   ],
   "source": [
    "url.split('/')[-2]"
   ]
  },
  {
   "cell_type": "code",
   "execution_count": null,
   "metadata": {
    "id": "zUcl4HQjQy93"
   },
   "outputs": [],
   "source": [
    "with open(url.split('/')[-2] + '.txt', mode='w') as f:\n",
    "  f.write(d[0].text)"
   ]
  },
  {
   "cell_type": "code",
   "execution_count": null,
   "metadata": {
    "id": "JBF94BTIQ8z0"
   },
   "outputs": [],
   "source": [
    "main_url = 'https://thestandard.co/category/wealth/wealth-opinion/'\n",
    "page = requests.get(main_url)\n",
    "soup = BeautifulSoup(page.content, 'html.parser')"
   ]
  },
  {
   "cell_type": "code",
   "execution_count": null,
   "metadata": {
    "colab": {
     "base_uri": "https://localhost:8080/"
    },
    "executionInfo": {
     "elapsed": 357,
     "status": "ok",
     "timestamp": 1637305299674,
     "user": {
      "displayName": "Te Rutherford",
      "photoUrl": "https://lh3.googleusercontent.com/a-/AOh14GhnnnZyY6CXF3gziJT3ZRAv_NC-DLIzPvDCitotVpw=s64",
      "userId": "02271080427623739850"
     },
     "user_tz": -420
    },
    "id": "UGrJudBa_sBH",
    "outputId": "3bb9e287-e799-47d2-87f4-511a31629595"
   },
   "outputs": [
    {
     "data": {
      "text/plain": [
       "[<a href=\"https://thestandard.co/metaverse-and-investment-opportunities/\">\n",
       " Metaverse กับความสำคัญในโลกอนาคตและโอกาสการลงทุนในโลกเสมือนจริง </a>,\n",
       " <a href=\"https://thestandard.co/direction-of-thai-economy-after-open-city/\">\n",
       " ทิศทางเศรษฐกิจไทยหลังการเปิดเมือง </a>,\n",
       " <a href=\"https://thestandard.co/thai-education-crisis/\">\n",
       " เด็กฉลาด ชาติเจริญ: จะฉลาดอย่างไรในวันที่ต้องเรียนออนไลน์ </a>,\n",
       " <a href=\"https://thestandard.co/esg-investing-responsible-investor/\">\n",
       " ESG Investing บทบาทของนักลงทุนสไตล์ Responsible Investor </a>,\n",
       " <a href=\"https://thestandard.co/world-oil-price-increase-effect-thailand-ecoomy/\">\n",
       " ราคาน้ำมันโลกพุ่งสูง เสี่ยงต่อการฟื้นตัวของเศรษฐกิจไทยอย่างไร </a>,\n",
       " <a href=\"https://thestandard.co/cop26-and-investment-opportunities/\">\n",
       " เจาะลึกการประชุม COP26 และโอกาสการลงทุนจากธีมรักษ์โลกที่มากกว่าแค่พลังงานทดแทน </a>,\n",
       " <a href=\"https://thestandard.co/wgc-and-gold-reserve-in-3q2021/\">\n",
       " WGC ชี้แบงก์ชาติทั่วโลกเดินหน้าสำรองทองเพิ่มใน 3Q21 ‘ไทย’ ยืนหนึ่งถือทองเพิ่มมากสุดในปีนี้ </a>,\n",
       " <a href=\"https://thestandard.co/adjust-investment-for-better/\">\n",
       " ปรับตัวพร้อมเปลี่ยนโลกการลงทุนครั้งใหญ่ เพื่อสิ่งที่ดีกว่า </a>,\n",
       " <a href=\"https://thestandard.co/blockchain-platform-war/\">\n",
       " สงคราม​แพลตฟอร์ม Blockchain </a>,\n",
       " <a href=\"https://thestandard.co/thematic-investor-2021-ending-expectation/\">\n",
       " Thematic Investor กับความหวังท้ายปี 2021 </a>]"
      ]
     },
     "execution_count": 75,
     "metadata": {},
     "output_type": "execute_result"
    }
   ],
   "source": [
    "soup.select('h3.news-title a')"
   ]
  },
  {
   "cell_type": "code",
   "execution_count": null,
   "metadata": {
    "colab": {
     "base_uri": "https://localhost:8080/"
    },
    "executionInfo": {
     "elapsed": 383,
     "status": "ok",
     "timestamp": 1637305347045,
     "user": {
      "displayName": "Te Rutherford",
      "photoUrl": "https://lh3.googleusercontent.com/a-/AOh14GhnnnZyY6CXF3gziJT3ZRAv_NC-DLIzPvDCitotVpw=s64",
      "userId": "02271080427623739850"
     },
     "user_tz": -420
    },
    "id": "ZQvPvVqQTKve",
    "outputId": "c5617589-07aa-4a5e-f8ad-ba8acb67079e"
   },
   "outputs": [
    {
     "data": {
      "text/plain": [
       "[<a href=\"https://thestandard.co/metaverse-and-investment-opportunities/\">\n",
       " Metaverse กับความสำคัญในโลกอนาคตและโอกาสการลงทุนในโลกเสมือนจริง </a>,\n",
       " <a href=\"https://thestandard.co/direction-of-thai-economy-after-open-city/\">\n",
       " ทิศทางเศรษฐกิจไทยหลังการเปิดเมือง </a>,\n",
       " <a href=\"https://thestandard.co/thai-education-crisis/\">\n",
       " เด็กฉลาด ชาติเจริญ: จะฉลาดอย่างไรในวันที่ต้องเรียนออนไลน์ </a>,\n",
       " <a href=\"https://thestandard.co/esg-investing-responsible-investor/\">\n",
       " ESG Investing บทบาทของนักลงทุนสไตล์ Responsible Investor </a>,\n",
       " <a href=\"https://thestandard.co/world-oil-price-increase-effect-thailand-ecoomy/\">\n",
       " ราคาน้ำมันโลกพุ่งสูง เสี่ยงต่อการฟื้นตัวของเศรษฐกิจไทยอย่างไร </a>,\n",
       " <a href=\"https://thestandard.co/cop26-and-investment-opportunities/\">\n",
       " เจาะลึกการประชุม COP26 และโอกาสการลงทุนจากธีมรักษ์โลกที่มากกว่าแค่พลังงานทดแทน </a>,\n",
       " <a href=\"https://thestandard.co/wgc-and-gold-reserve-in-3q2021/\">\n",
       " WGC ชี้แบงก์ชาติทั่วโลกเดินหน้าสำรองทองเพิ่มใน 3Q21 ‘ไทย’ ยืนหนึ่งถือทองเพิ่มมากสุดในปีนี้ </a>,\n",
       " <a href=\"https://thestandard.co/adjust-investment-for-better/\">\n",
       " ปรับตัวพร้อมเปลี่ยนโลกการลงทุนครั้งใหญ่ เพื่อสิ่งที่ดีกว่า </a>,\n",
       " <a href=\"https://thestandard.co/blockchain-platform-war/\">\n",
       " สงคราม​แพลตฟอร์ม Blockchain </a>,\n",
       " <a href=\"https://thestandard.co/thematic-investor-2021-ending-expectation/\">\n",
       " Thematic Investor กับความหวังท้ายปี 2021 </a>]"
      ]
     },
     "execution_count": 77,
     "metadata": {},
     "output_type": "execute_result"
    }
   ],
   "source": [
    "a_tags = soup.select('div.newsbox-archive h3.news-title a')\n",
    "a_tags"
   ]
  },
  {
   "cell_type": "code",
   "execution_count": null,
   "metadata": {
    "colab": {
     "base_uri": "https://localhost:8080/"
    },
    "executionInfo": {
     "elapsed": 9,
     "status": "ok",
     "timestamp": 1637293745898,
     "user": {
      "displayName": "Te Rutherford",
      "photoUrl": "https://lh3.googleusercontent.com/a-/AOh14GhnnnZyY6CXF3gziJT3ZRAv_NC-DLIzPvDCitotVpw=s64",
      "userId": "02271080427623739850"
     },
     "user_tz": -420
    },
    "id": "hjalpE9gTnHj",
    "outputId": "59965aaa-e042-462d-ec9e-2720c5d5d30c"
   },
   "outputs": [
    {
     "name": "stdout",
     "output_type": "stream",
     "text": [
      "https://thestandard.co/metaverse-and-investment-opportunities/\n",
      "https://thestandard.co/direction-of-thai-economy-after-open-city/\n",
      "https://thestandard.co/thai-education-crisis/\n",
      "https://thestandard.co/esg-investing-responsible-investor/\n",
      "https://thestandard.co/world-oil-price-increase-effect-thailand-ecoomy/\n",
      "https://thestandard.co/cop26-and-investment-opportunities/\n",
      "https://thestandard.co/wgc-and-gold-reserve-in-3q2021/\n",
      "https://thestandard.co/adjust-investment-for-better/\n",
      "https://thestandard.co/blockchain-platform-war/\n",
      "https://thestandard.co/thematic-investor-2021-ending-expectation/\n"
     ]
    }
   ],
   "source": [
    "for a in a_tags:\n",
    "  print(a.attrs['href'])"
   ]
  },
  {
   "cell_type": "code",
   "execution_count": null,
   "metadata": {
    "id": "-Jw092eHTsC8"
   },
   "outputs": [],
   "source": [
    "def scrape_article(url):\n",
    "  page = requests.get(url)\n",
    "  soup = BeautifulSoup(page.content, 'html.parser')\n",
    "  d_list = soup.select('div.entry-content')\n",
    "  t = d_list[0].text\n",
    "  with open(url.split('/')[-2] + '.txt', mode='w') as f:\n",
    "    f.write(t)\n",
    "\n",
    "num_pages = 5\n",
    "for i in range(num_pages+1):\n",
    "  if i == 0:\n",
    "    link_page = 'https://thestandard.co/category/wealth/wealth-opinion/'\n",
    "  else:\n",
    "    link_page = 'https://thestandard.co/category/wealth/wealth-opinion/page/{}/'.format(i)\n",
    "  result = requests.get(link_page)\n",
    "  link_page_soup = BeautifulSoup(result.content, 'html.parser')\n",
    "  article_a_tags = link_page_soup.select('div.newsbox-archive h3.news-title a')\n",
    "  for a_tag in article_a_tags:\n",
    "    scrape_article(a_tag.attrs['href'])"
   ]
  },
  {
   "cell_type": "code",
   "execution_count": null,
   "metadata": {
    "colab": {
     "base_uri": "https://localhost:8080/"
    },
    "executionInfo": {
     "elapsed": 533,
     "status": "ok",
     "timestamp": 1637307014353,
     "user": {
      "displayName": "Te Rutherford",
      "photoUrl": "https://lh3.googleusercontent.com/a-/AOh14GhnnnZyY6CXF3gziJT3ZRAv_NC-DLIzPvDCitotVpw=s64",
      "userId": "02271080427623739850"
     },
     "user_tz": -420
    },
    "id": "dIji8ZjqGNuX",
    "outputId": "bf5c2167-6d87-4085-bef6-270790175ddf"
   },
   "outputs": [
    {
     "name": "stdout",
     "output_type": "stream",
     "text": [
      "  adding: 4-lessons-evergrande.txt (deflated 77%)\n",
      "  adding: adjust-investment-for-better.txt (deflated 75%)\n",
      "  adding: bank-and-regulator.txt (deflated 78%)\n",
      "  adding: blockchain-platform-war.txt (deflated 73%)\n",
      "  adding: bot-ltv.txt (deflated 78%)\n",
      "  adding: cop26-and-investment-opportunities.txt (deflated 75%)\n",
      "  adding: core-satellite-stock-portfolio.txt (deflated 77%)\n",
      "  adding: direction-of-thai-economy-after-open-city.txt (deflated 76%)\n",
      "  adding: educational-institutions-make-a-lot-money-is-good-or-not.txt (deflated 74%)\n",
      "  adding: energy-crisis-and-stagflation-fear.txt (deflated 79%)\n",
      "  adding: energy-prices-opening-up-the-country-and-the-volatility-of-the-baht.txt (deflated 79%)\n",
      "  adding: esg-investing-responsible-investor.txt (deflated 73%)\n",
      "  adding: evergrande-case.txt (deflated 77%)\n",
      "  adding: fake-testament-vulnerability-closing-before-blood-inherit.txt (deflated 78%)\n",
      "  adding: foundations-and-principles-of-economic-reform.txt (deflated 82%)\n",
      "  adding: gold-movement-with-qe-tapering-in-2013.txt (deflated 77%)\n",
      "  adding: healthcare-innovation-fund.txt (deflated 75%)\n",
      "  adding: hyperscale-data-center.txt (deflated 73%)\n",
      "  adding: if-its-insured-its-good.txt (deflated 76%)\n",
      "  adding: lockdown-released-and-determine-fate-of-thai-stock-market.txt (deflated 75%)\n",
      "  adding: margaret-thatcher.txt (deflated 78%)\n",
      "  adding: ma-trend-in-world-financial-industry.txt (deflated 76%)\n",
      "  adding: metaverse-and-investment-opportunities.txt (deflated 72%)\n",
      "  adding: opinion-insurance-meet-pay-finish.txt (deflated 76%)\n",
      "  adding: prevent-and-cope-with-cyber-threat.txt (deflated 78%)\n",
      "  adding: public-debt-ceiling-in-us.txt (deflated 74%)\n",
      "  adding: qe-tapering-to-debt-ceiling-lifting.txt (deflated 78%)\n",
      "  adding: random-credit-card-numbers.txt (deflated 77%)\n",
      "  adding: reduce-taxes-to-be-worthwhile.txt (deflated 79%)\n",
      "  adding: reform-from-motivation.txt (deflated 81%)\n",
      "  adding: selective-buy.txt (deflated 65%)\n",
      "  adding: set-fluctuate-to-defensive-group.txt (deflated 74%)\n",
      "  adding: slowflation-investment.txt (deflated 77%)\n",
      "  adding: spacs-opportunities-and-risks-of-a-new-way.txt (deflated 78%)\n",
      "  adding: thai-baht-value-2022-on-4-factors.txt (deflated 81%)\n",
      "  adding: thai-bank-shares-value-last-compared-to-foreign-countries.txt (deflated 79%)\n",
      "  adding: thai-education-crisis.txt (deflated 79%)\n",
      "  adding: the-great-reset-in-business-sector.txt (deflated 76%)\n",
      "  adding: the-law-of-foreign-ownership-of-land.txt (deflated 79%)\n",
      "  adding: thematic-investor-2021-ending-expectation.txt (deflated 71%)\n",
      "  adding: thematic-investor-with-worst-month-of-2021.txt (deflated 71%)\n",
      "  adding: uk-economy-lesson.txt (deflated 77%)\n",
      "  adding: wgc-and-gold-reserve-in-3q2021.txt (deflated 74%)\n",
      "  adding: which-market-to-invest-when-global-monetary-policy-began-to-differ.txt (deflated 76%)\n",
      "  adding: who-responsible-customers-sucked-in-money-case.txt (deflated 76%)\n",
      "  adding: why-climate-change-strategy-importance.txt (deflated 73%)\n",
      "  adding: why-open-the-city-and-the-economy-is-still-broken.txt (deflated 77%)\n",
      "  adding: world-business-trend-during-coronavirus-from-executive-view.txt (deflated 76%)\n",
      "  adding: world-oil-price-increase-effect-thailand-ecoomy.txt (deflated 78%)\n",
      "  adding: year-ending-investment-portfolio.txt (deflated 76%)\n"
     ]
    }
   ],
   "source": [
    "!zip mydata.zip *.txt "
   ]
  }
 ],
 "metadata": {
  "colab": {
   "collapsed_sections": [],
   "name": "Scraping workshop solution",
   "provenance": []
  },
  "kernelspec": {
   "display_name": "Python 3.8.12",
   "language": "python",
   "name": "python3"
  },
  "language_info": {
   "name": "python",
   "version": "3.8.12"
  },
  "vscode": {
   "interpreter": {
    "hash": "34368ba4908ea1be08ba769dfb7764ab7f8ead2384ebb5604cb86637573696f7"
   }
  }
 },
 "nbformat": 4,
 "nbformat_minor": 0
}
