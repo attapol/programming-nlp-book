{
 "cells": [
  {
   "cell_type": "markdown",
   "metadata": {},
   "source": [
    "# เฉลยโจทย์: Comprehension\n",
    "## ข้อ 1: List comprehension 1\n",
    "จงเปลี่ยนลิสต์ของชื่อให้เป็นลิสต์ที่มีแต่ชื่อภาษาอังกฤษ และชื่อภาษาอังกฤษจะต้องถูกเปลี่ยนเป็นชื่อที่ขึ้นต้นด้วยตัวใหญ่ที่เหลือตัวเล็กทั้งหมด ให้เขียนสองแบบ\n",
    "- แบบแรกให้เขียนโดยใช้ for loop ธรรมดา\n",
    "- แบบที่สองให้เขียนโดยใช้ list comprehension"
   ]
  },
  {
   "cell_type": "code",
   "execution_count": 2,
   "metadata": {},
   "outputs": [],
   "source": [
    "names = ['aaron', 'leigH', 'เต้', 'jOHN']\n"
   ]
  },
  {
   "cell_type": "code",
   "execution_count": null,
   "metadata": {},
   "outputs": [
    {
     "name": "stdout",
     "output_type": "stream",
     "text": [
      "['Aaron', 'Leigh', 'John']\n"
     ]
    }
   ],
   "source": [
    "# for loop ธรรมดา\n",
    "\"\"\"\n",
    "1. สร้างลิสต์ใหม่ (new_list) เพื่อเก็บชื่อที่ฟอร์แมตแล้ว\n",
    "2. วนลูป (loop) ทุกตัวอักษรในรายชื่อ (names)\n",
    "3. ฟอร์แมตชื่อภาษาอังกฤษ (eng_name) \n",
    "    3.1 ตรวจสอบว่า eng_name เป็นตัวอักษรเล็กทั้งหมดหรือไม่ (islower())\n",
    "    3.2  ถ้าเป็นตัวอักษรเล็กทั้งหมด ให้แปลงเป็นตัวพิมพ์ใหญ่ตัวแรก (capitalize())\n",
    "4. เพิ่มชื่อที่ฟอร์แมตแล้ว (eng_name) ลงในรายการใหม่ (new_list)\n",
    "\"\"\"\n",
    "\n",
    "new_list = []\n",
    "for name in names:\n",
    "  if name.lower().islower():\n",
    "    new_list.append(name.lower().capitalize())\n",
    "\n",
    "print(new_list)"
   ]
  },
  {
   "cell_type": "code",
   "execution_count": null,
   "metadata": {},
   "outputs": [
    {
     "name": "stdout",
     "output_type": "stream",
     "text": [
      "['Aaron', 'Leigh', 'John']\n"
     ]
    }
   ],
   "source": [
    "# List comprehension\n",
    "\n",
    "new_list = [name.lower().capitalize() for name in names if name.lower().islower()]\n",
    "\n",
    "print(new_list)"
   ]
  },
  {
   "cell_type": "markdown",
   "metadata": {},
   "source": [
    "## ข้อ 2: List comprehension 2\n",
    "Given a list of English words, **use list comprehension** to create a list of words that are all capitalized. You must also exclude words that are shorter than two characters."
   ]
  },
  {
   "cell_type": "code",
   "execution_count": 6,
   "metadata": {},
   "outputs": [],
   "source": [
    "tokens = ['Fruit', 'flies', 'do', 'like', 'bananas', '.']\n"
   ]
  },
  {
   "cell_type": "code",
   "execution_count": 7,
   "metadata": {},
   "outputs": [
    {
     "name": "stdout",
     "output_type": "stream",
     "text": [
      "['FRUIT', 'FLIES', 'LIKE', 'BANANAS']\n"
     ]
    }
   ],
   "source": [
    "new_tokens = [token.upper() for token in tokens if len(token) > 2]\n",
    "print(new_tokens)"
   ]
  },
  {
   "cell_type": "markdown",
   "metadata": {},
   "source": [
    "## ข้อ 3: List comprehension 3\n",
    "เขียน List comprehension \n",
    "- input เป็นลิสต์ของคำ (strings) เช่น `['monKey', 'roach', 'Eve', 'oo', 'Jim']`\n",
    "- output ลิสต์ของคำทั้งหมดแต่ว่าให้เอาสระออกให้หมด เช่น `['mnKy', 'rch', 'v', '', 'Jm']`"
   ]
  },
  {
   "cell_type": "code",
   "execution_count": 4,
   "metadata": {},
   "outputs": [],
   "source": [
    "word_list = ['monKey', 'roach', 'Eve', 'oo', 'Jim']"
   ]
  },
  {
   "cell_type": "code",
   "execution_count": 9,
   "metadata": {},
   "outputs": [
    {
     "name": "stdout",
     "output_type": "stream",
     "text": [
      "['mnKy', 'rch', 'v', '', 'Jm']\n"
     ]
    }
   ],
   "source": [
    "#for loop ธรรมดา\n",
    "\"\"\"\n",
    "1. วนลูปผ่านทุกตัวอักษรในรายการ inputList\n",
    "2. กรองสระออกจากคำ\n",
    "2.1 สร้างสตริงเปล่า\n",
    "2.2 เพิ่มตัวอักษรแต่ละตัวในคำลงในสตริงเปล่า โดยไม่รวมสระ\n",
    "2.3 เพิ่มสตริงที่ได้ไปยังรายการ new_list\n",
    "\"\"\"\n",
    "new_list = []\n",
    "for word in word_list:\n",
    "  new_word = ''\n",
    "  for char in word:\n",
    "    if char.lower() not in 'aeiou':\n",
    "      new_word += char\n",
    "  new_list.append(new_word)\n",
    "\n",
    "print(new_list)"
   ]
  },
  {
   "cell_type": "code",
   "execution_count": 14,
   "metadata": {},
   "outputs": [
    {
     "name": "stdout",
     "output_type": "stream",
     "text": [
      "['mnKy', 'rch', 'v', '', 'Jm']\n"
     ]
    }
   ],
   "source": [
    "#list comprehension\n",
    "new_list = [''.join(char for char in word if char.lower() not in 'aeiou') for word in word_list]\n",
    "\n",
    "print(new_list)"
   ]
  },
  {
   "cell_type": "markdown",
   "metadata": {},
   "source": [
    "## ข้อ 4: Dictionary comprehension 1\n",
    "Given a list words, create a dictionary whose keys are a word and values are the length of the word. \n",
    "\n"
   ]
  },
  {
   "cell_type": "code",
   "execution_count": 14,
   "metadata": {},
   "outputs": [],
   "source": [
    "tokens = ['Fruit', 'flies', 'like', 'bananas', '.']"
   ]
  },
  {
   "cell_type": "code",
   "execution_count": 16,
   "metadata": {},
   "outputs": [
    {
     "name": "stdout",
     "output_type": "stream",
     "text": [
      "{'Fruit': 5, 'flies': 5, 'like': 4, 'bananas': 7, '.': 1}\n"
     ]
    }
   ],
   "source": [
    "word_to_values = {token:len(token) for token in tokens}\n",
    "print(word_to_values)"
   ]
  },
  {
   "cell_type": "markdown",
   "metadata": {},
   "source": [
    "## ข้อ 5: Dictionary comprehension 2\n",
    "Given two lists of words that are translations of each other, create a dictionary whose key is an English and whose value is the French translation of that word. And keep only English words that are longer than 3 characters."
   ]
  },
  {
   "cell_type": "code",
   "execution_count": 18,
   "metadata": {},
   "outputs": [],
   "source": [
    "english_words = ['chair', 'pen', 'eraser', 'computer']\n",
    "french_words = ['chaise', 'stylo', 'gomme', 'ordinateur']\n"
   ]
  },
  {
   "cell_type": "code",
   "execution_count": 19,
   "metadata": {},
   "outputs": [
    {
     "name": "stdout",
     "output_type": "stream",
     "text": [
      "{'chair': 'chaise', 'eraser': 'gomme', 'computer': 'ordinateur'}\n"
     ]
    }
   ],
   "source": [
    "english_to_french = {word: french_words[i] for i, word in enumerate(english_words) if len(word) > 3}\n",
    "print(english_to_french)"
   ]
  },
  {
   "cell_type": "markdown",
   "metadata": {},
   "source": [
    "## ข้อ 6: Dictionary comprehension 3\n",
    "จงเขียน dictionary comprehension \n",
    "\n",
    "- Input: ลิสต์ของคำ `['baby', 'baby', 'baby', 'oh', '...', 'baby', 'baby', 'no','!']`\n",
    "- Output: ดิกต์ที่มี key เป็นคำ และ value เป็นอันดับของคำตามความถี่ เช่น `{'baby': 1, 'oh': 2, '...': 3, 'no': 4, '!': 5}`\n",
    "\n",
    "Hint: ใช้ `Counter` นับคำก่อนหลังจากนั้นเขียน dict comprehension โดยใช้ `Counter.most_common` เป็น input\n"
   ]
  },
  {
   "cell_type": "code",
   "execution_count": 25,
   "metadata": {},
   "outputs": [],
   "source": [
    "word_list = ['baby', 'baby', 'baby', 'oh', '...', 'baby', 'baby', 'no','!']\n",
    "\n"
   ]
  },
  {
   "cell_type": "code",
   "execution_count": 36,
   "metadata": {},
   "outputs": [
    {
     "name": "stdout",
     "output_type": "stream",
     "text": [
      "{'baby': 1, 'oh': 2, '...': 3, 'no': 4, '!': 5}\n"
     ]
    }
   ],
   "source": [
    "from collections import Counter\n",
    "word_count = Counter(word_list)\n",
    "word_count_lst = word_count.most_common()\n",
    "word_to_rank = {word_n_freq[0]:i+1 for i, word_n_freq in enumerate(word_count_lst)}\n",
    "print(word_to_rank)"
   ]
  }
 ],
 "metadata": {
  "kernelspec": {
   "display_name": "base",
   "language": "python",
   "name": "python3"
  },
  "language_info": {
   "codemirror_mode": {
    "name": "ipython",
    "version": 3
   },
   "file_extension": ".py",
   "mimetype": "text/x-python",
   "name": "python",
   "nbconvert_exporter": "python",
   "pygments_lexer": "ipython3",
   "version": "3.8.8"
  }
 },
 "nbformat": 4,
 "nbformat_minor": 2
}
