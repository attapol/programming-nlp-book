{
 "cells": [
  {
   "cell_type": "markdown",
   "metadata": {},
   "source": [
    "# เฉลยโจทย์: การประยุกต์ใช้โมเดลการประมวลผลภาษาธรรมชาติแบบสำเร็จรูป"
   ]
  },
  {
   "cell_type": "code",
   "execution_count": 1,
   "metadata": {},
   "outputs": [],
   "source": [
    "import pandas as pd \n",
    "import spacy\n",
    "import transformers"
   ]
  },
  {
   "cell_type": "code",
   "execution_count": 2,
   "metadata": {},
   "outputs": [
    {
     "data": {
      "text/plain": [
       "193"
      ]
     },
     "execution_count": 2,
     "metadata": {},
     "output_type": "execute_result"
    }
   ],
   "source": [
    "with open('data/singer-review.txt', 'r') as f:\n",
    "    reviews = f.readlines()\n",
    "# Convert to DataFrame\n",
    "df = pd.DataFrame(reviews, columns=['text'])\n",
    "len(df)"
   ]
  },
  {
   "cell_type": "code",
   "execution_count": 3,
   "metadata": {},
   "outputs": [],
   "source": [
    "# Use spacy to get NER tags\n",
    "nlp = spacy.load(\"en_core_web_sm\")\n",
    "def get_ner_tags(text):\n",
    "    doc = nlp(text)\n",
    "    # extract entity strings with PER tag\n",
    "    entities = []\n",
    "    for ent in doc.ents:\n",
    "        if ent.label_ == 'PERSON':\n",
    "            entities.append(ent.text)\n",
    "    return entities[0] if len(entities) > 0 else ''\n",
    "\n",
    "df['person'] = df['text'].apply(get_ner_tags)"
   ]
  },
  {
   "cell_type": "code",
   "execution_count": 4,
   "metadata": {},
   "outputs": [
    {
     "data": {
      "text/plain": [
       "person\n",
       "                     81\n",
       "Madonna              23\n",
       "Maddie               23\n",
       "Lady Gaga            16\n",
       "Taylor Swift         13\n",
       "Gaga                 12\n",
       "Taylor Swift’s        8\n",
       "Lady Gaga’s           4\n",
       "Swifty’s              3\n",
       "Gaga’s                3\n",
       "Taylor Swift's        2\n",
       "Swifty’s Easter       1\n",
       "Lady Gaga's           1\n",
       "Grammy                1\n",
       "Madge                 1\n",
       "Gaga’s Chromatica     1\n",
       "Name: count, dtype: int64"
      ]
     },
     "execution_count": 4,
     "metadata": {},
     "output_type": "execute_result"
    }
   ],
   "source": [
    "df['person'].value_counts()"
   ]
  },
  {
   "cell_type": "code",
   "execution_count": 5,
   "metadata": {},
   "outputs": [],
   "source": [
    "# Combine Madonna and Maddie and put them in 'singer' column\n",
    "def combine_name(entity_mention):\n",
    "    if 'Madonna' in entity_mention or 'Maddie' in entity_mention:\n",
    "        return 'Madonna'\n",
    "    # Combine Swift to Taylor Swift\n",
    "    elif 'Swift' in entity_mention:\n",
    "        return 'Taylor Swift'\n",
    "    # Combine Gaga to Lady Gaga\n",
    "    elif 'Gaga' in entity_mention:\n",
    "        return 'Lady Gaga'\n",
    "    return ''\n",
    "    \n",
    "df['singer'] = df['person'].apply(combine_name)"
   ]
  },
  {
   "cell_type": "code",
   "execution_count": 6,
   "metadata": {},
   "outputs": [
    {
     "data": {
      "text/plain": [
       "singer\n",
       "                83\n",
       "Madonna         46\n",
       "Lady Gaga       37\n",
       "Taylor Swift    27\n",
       "Name: count, dtype: int64"
      ]
     },
     "execution_count": 6,
     "metadata": {},
     "output_type": "execute_result"
    }
   ],
   "source": [
    "df['singer'].value_counts()"
   ]
  },
  {
   "cell_type": "code",
   "execution_count": 7,
   "metadata": {},
   "outputs": [
    {
     "name": "stdout",
     "output_type": "stream",
     "text": [
      ": subtle, deep, Swifty, few, biggest, -, full, masterful, postmodern, academic, loyal, passionate, classic, cinematic, artistic, religious, institutional, historic, balanced, strategic, Shallow, unapologetic, red, best, perfect, stellar, unforgettable, outlive, next, deliberate, acoustic, powerful, magical, stunning, short, orchestral, lyrical, relevant, better, earlier, new, millennial, visual, pop, many, bold, cultural, personal, little, recorded, fearless, unmatched, multidimensional, countless, political, gold, much, last, tailored, latest, re, meta, separate, safe, intertextual, more\n",
      "\n",
      "Lady Gaga: public, deep, honest, -, full, live, artistic, social, beautiful, best, mental, pure, incredible, admirable, amazing, unfiltered, post, next, chronic, magical, recent, visual, dismiss, new, traditional, equal, theatrical, fearless, vocal, garde, avant, intellectual, iconic, own, devoted, charitable, traumatic, latest, raw, emotional, jarring, greater, early, profound\n",
      "\n",
      "Madonna: unbelievable, public, challenging, old, cinematic, artistic, societal, pure, lavish, female, different, youthful, underrated, better, visual, multiple, pop, fresh, provocative, generational, many, bold, cultural, afraid, Amazing, reflective, open, fearless, unmatched, clear, vocal, instinctive, tall, iconic, true, controversial, major, raw, undeniable, more, mere, younger\n",
      "\n",
      "Taylor Swift: sonic, modern, heartbreak, incredible, clever, next, powerful, lyrical, better, new, personal, creative, contagious, seamless, countless, past, true, introspective, wild, raw, resonant, initial\n",
      "\n"
     ]
    }
   ],
   "source": [
    "def get_adjectives(text):\n",
    "    doc = nlp(text)\n",
    "    adjectives = []\n",
    "    for token in doc:\n",
    "        if token.pos_ == 'ADJ':\n",
    "            adjectives.append(token.text)\n",
    "    return adjectives\n",
    "df['adjectives'] = df['text'].apply(get_adjectives)\n",
    "\n",
    "# Combine adjective list for each singer into a single list\n",
    "def combine_adjectives(adjective_list):\n",
    "    combined = []\n",
    "    for adjectives in adjective_list:\n",
    "        combined.extend(adjectives)\n",
    "    return list(set(combined))\n",
    "adj_by_singer = df.groupby('singer')['adjectives'].apply(combine_adjectives)\n",
    "\n",
    "# Print adjectives for each singer\n",
    "for singer, adjectives in adj_by_singer.items():\n",
    "    print(f\"{singer}: {', '.join(adjectives)}\\n\")"
   ]
  },
  {
   "cell_type": "code",
   "execution_count": null,
   "metadata": {},
   "outputs": [],
   "source": [
    "from transformers import pipeline\n",
    "classifier = pipeline('sentiment-analysis', model='cardiffnlp/twitter-roberta-base-sentiment-latest')\n",
    "def get_sentiment(text):\n",
    "    result = classifier(text)\n",
    "    # return the label with the highest score\n",
    "    return result[0]['label']\n",
    "df['sentiment'] = df['text'].apply(get_sentiment)\n",
    "df.groupby('singer')['sentiment'].value_counts(normalize=True)"
   ]
  }
 ],
 "metadata": {
  "kernelspec": {
   "display_name": "base",
   "language": "python",
   "name": "python3"
  },
  "language_info": {
   "codemirror_mode": {
    "name": "ipython",
    "version": 3
   },
   "file_extension": ".py",
   "mimetype": "text/x-python",
   "name": "python",
   "nbconvert_exporter": "python",
   "pygments_lexer": "ipython3",
   "version": "3.12.7"
  }
 },
 "nbformat": 4,
 "nbformat_minor": 2
}
